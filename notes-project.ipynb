{
 "cells": [
  {
   "cell_type": "markdown",
   "metadata": {},
   "source": [
    "# Notes for project"
   ]
  },
  {
   "cell_type": "markdown",
   "metadata": {},
   "source": [
    "## Construction of Differentiation Matrix"
   ]
  },
  {
   "cell_type": "markdown",
   "metadata": {},
   "source": [
    "The idea here is that we will have $\\psi(x,t) \\mapsto \\vec{\\psi}(t)$, then we want to construct a matrix:\n",
    "$D_{xx}$ such that \n",
    "\n",
    "$$\\left(D_{xx} \\vec{\\psi}(t)\\right)_k = \\frac{\\partial^2 \\psi}{\\partial x^2} (x_k,t)$$\n",
    "\n",
    "For the $k$'th $x$ position.\n",
    "\n",
    "First we construct $x$ nodes: $x \\in \\left[-L,L\\right]$, using $M$ nodes:\n",
    "\n",
    "$$x_k = -L + kh, \\quad h = \\frac{2L}{M}, \\quad k = 0, 1, ..., M$$\n",
    "\n",
    "For the iterior nodes $(x_{1}, ..., x_{M-1})$ we have \n",
    "\n",
    "$$\\frac{1}{h^2}\\left[\\psi(x_{k+1},t) - 2 \\psi(x_k,t) + \\psi(x_{k-1},t)\\right] = \\frac{\\partial^2 \\psi}{\\partial x^2} (x_k,t) + O(h^2)$$\n",
    "\n",
    "Corresponding to a row in $D_{xx}$ of $\\left[1,-2,1\\right]$.\n",
    "\n",
    "Now we need to be concerned with the ends.  Without loss of generality, consider $x_0$.  We want to find coefficients $a,b,c,d$ such that:\n",
    "\n",
    "$$af(x + 3h) + bf(x + 2h) + cf(x + h) + d f(x) = f''(x) + O(h^2)$$\n",
    "\n",
    "Taylor expanding gives the following system:\n",
    "\n",
    "$$\\begin{split}\n",
    "(a + b + c + d) f(x) & = 0 \\\\\n",
    "(3a + 2b + c) hf'(x) & = 0 \\\\\n",
    "(9a + 4b + c) \\frac{h^2}{2} f''(x) & = f''(x) \\\\\n",
    "(27a + 8b + c) \\frac{h^3}{6} f^{(3)}(x) & = 0\n",
    "\\end{split}$$\n",
    "\n",
    "We can find the coefficients $a, b, c, d$ by solving the following system and scaling by $\\frac{2}{h^2}$:\n",
    "\n",
    "$$\\begin{bmatrix} \n",
    "1 & 1 & 1 & 1 \\\\\n",
    "3 & 2 & 1 & 0 \\\\\n",
    "9 & 4 & 1 & 0 \\\\\n",
    "27 & 8 & 1 & 0 \n",
    "\\end{bmatrix} \\begin{bmatrix} a \\\\ b \\\\ c \\\\ d \\end{bmatrix} = \n",
    "\\begin{bmatrix} 0 \\\\ 0 \\\\ 1 \\\\ 0 \\end{bmatrix}$$"
   ]
  },
  {
   "cell_type": "code",
   "execution_count": 4,
   "metadata": {},
   "outputs": [
    {
     "name": "stdout",
     "output_type": "stream",
     "text": [
      "[[-0.5]\n",
      " [ 2. ]\n",
      " [-2.5]\n",
      " [ 1. ]]\n",
      "[[ 0.0000000e+00]\n",
      " [-4.4408921e-16]\n",
      " [ 1.0000000e+00]\n",
      " [-4.4408921e-16]]\n"
     ]
    }
   ],
   "source": [
    "import numpy as np\n",
    "import numpy.linalg as la\n",
    "A = np.matrix([[1,1,1,1],[3,2,1,0],[9,4,1,0],[27,8,1,0]])\n",
    "e3 = np.matrix([0,0,1,0]).transpose()\n",
    "\n",
    "coefs = la.solve(A,e3)\n",
    "print(coefs)\n",
    "\n",
    "print(np.matmul(A,coefs))"
   ]
  },
  {
   "cell_type": "markdown",
   "metadata": {},
   "source": [
    "Therefore we have the first row of $D_{xx}$ is $\\left[1, -\\frac{5}{2}, 2, -\\frac{1}{2}\\right]$\n",
    "\n",
    "And for the last row we negate every other column of the matrix $A$ above, and so the last row of $D_{xx}$ is \n",
    "$\\left[\\frac{1}{2}, -2, \\frac{5}{2}, -1\\right]$.  Therefore the differentiation matrix is \n",
    "\n",
    "$$D_{xx} = \\frac{2}{h^2}\\begin{bmatrix} \n",
    "1 & -\\frac{5}{2} & 2 & -\\frac{1}{2} & 0 & ... & & 0 \\\\\n",
    "1 & -2           & 1 &       0      & 0 & ... & & 0 \\\\\n",
    "0 & 1           &  -2 &     -1      & 0 & ... & & 0 \\\\\n",
    "\\vdots & & &  \\ddots  & \\ddots & \\ddots & & \\vdots\\\\\n",
    "0 & ... & & & 1 & -2 & 1 & 0 \\\\\n",
    "0 & ... & & & \\frac{1}{2} & -2 & \\frac{5}{2} & -1 \n",
    "\\end{bmatrix}$$\n",
    "\n",
    "Which is second order accurate."
   ]
  },
  {
   "cell_type": "markdown",
   "metadata": {},
   "source": [
    "## One dimensional wave equation with reflecting boundary"
   ]
  },
  {
   "cell_type": "markdown",
   "metadata": {},
   "source": [
    "$$\\begin{split}\n",
    "\\frac{\\partial^2 \\psi}{\\partial x^2} = \\frac{\\partial^2 \\psi}{\\partial t^2}, \\quad \n",
    "x \\in \\left[-1,1\\right], \\quad t \\in \\left[0,T\\right] \\\\\n",
    "\\psi(1,t) = \\psi(-1,t) = 0 \\quad \\text{(Reflecting Boundary)} \\\\\n",
    "\\psi(x,0) = f(x), \\quad \\frac{\\partial \\psi}{\\partial t} (x,0) = g(x) \\quad \\text{(Initial Conditions)}\n",
    "\\end{split}$$\n",
    "\n",
    "Discretization:\n",
    "\n",
    "$M$ will be the number of $x$ nodes.  $x_k = -1 + hk$ where $h = \\frac{2}{M}$, and $k = 0, 1, ..., M$.  We will let \n",
    "$\\vec{\\psi}(t) = \\psi(\\vec{x},t) \\in \\mathbb{R}^{M+1}$.\n",
    "\n",
    "$D_{xx} \\in \\mathbb{R}^{(M+1)\\times (M+1)}$ will be constructed as above.  We will then be solving:\n",
    "\n",
    "$$\\frac{d^2}{dt^2} \\vec{\\psi}(t) = D_{xx} \\vec{\\psi}(t)$$\n",
    "\n",
    "At each stage: $\\psi_0(t)$ and $\\psi_M(t)$ will be set to zero (boundary condition), and the initial conditions are \n",
    "$\\vec{\\psi(0)} = \\vec{f} = f(\\vec{x})$, and $\\frac{d}{dt} \\vec{\\psi}(0) = \\vec{g} = g(\\vec{x})$\n",
    "\n",
    "Time will be discretized into $N$ nodes so that $t_j = j\\tau$ where $\\tau = \\frac{T}{N}$ and $j = 0, 1, ... N$.  \n",
    "We will solve the ODE above using the Stormer-Verlet Method:\n",
    "\n",
    "$$\\begin{split}\n",
    "\\vec{\\psi}(0) = \\vec{f}, \\quad \\frac{d}{dt} \\vec{\\psi}(0) = \\vec{g} \\\\\n",
    "\\vec{\\psi}(t_1) = \\vec{f} + \\tau \\vec{g} + \\frac{\\tau^2}{2} D_{xx} \\vec{f} \\\\\n",
    "\\vec{\\psi}(t_{j+1}) = 2\\vec{\\psi}(t_j) - \\vec{\\psi}(t_{j-1}) + \\tau^2 D_{xx}\\vec{\\psi}(t_j) & \\quad j > 1\n",
    "\\end{split}$$\n",
    "\n",
    "For simplicity, we will let $g(x) \\equiv 0$ and \n",
    "\n",
    "$$f(x) = \\begin{cases}\n",
    "\\frac{1}{\\epsilon^4}(x-\\epsilon)^2(x + \\epsilon)^2 & |x| \\leq \\epsilon \\ll 1 \\\\\n",
    "0 & |x| > \\epsilon\n",
    "\\end{cases}$$\n",
    "\n",
    "Consider that we then have \n",
    "\n",
    "$$\\vec{psi}_{j+1} = 2\\vec{\\psi}_j - \\vec{\\psi}_{j-1} + \\tau^2 D_{xx} \\vec{\\psi}_{j} = \n",
    "2\\vec{\\psi}_j - \\vec{\\psi}_{j-1} + \\frac{2\\tau^2}{h^2} A \\vec{\\psi}_j$$\n",
    "\n",
    "Then clearly the characteristic velocity is $\\frac{h}{\\sqrt{2}\\tau}$"
   ]
  },
  {
   "cell_type": "code",
   "execution_count": 18,
   "metadata": {},
   "outputs": [
    {
     "data": {
      "image/png": "[encoded data removed]",
      "text/plain": [
       "<Figure size 432x288 with 1 Axes>"
      ]
     },
     "metadata": {},
     "output_type": "display_data"
    },
    {
     "name": "stdout",
     "output_type": "stream",
     "text": [
      "Wave Speed: 1.131370849898477\n"
     ]
    },
    {
     "name": "stderr",
     "output_type": "stream",
     "text": [
      "MovieWriter ffmpeg unavailable.\n"
     ]
    },
    {
     "data": {
      "image/png": "[encoded data removed]",
      "text/plain": [
       "<Figure size 432x288 with 1 Axes>"
      ]
     },
     "metadata": {},
     "output_type": "display_data"
    }
   ],
   "source": [
    "import matplotlib.pyplot as plt\n",
    "from matplotlib.animation import ArtistAnimation\n",
    "import matplotlib.animation as ani\n",
    "\n",
    "# setup\n",
    "\n",
    "xspan = [-1,1]\n",
    "tspan = [0,2.5]\n",
    "eps = 1.0/10\n",
    "\n",
    "M = 1000\n",
    "N = 2000\n",
    "numImSkip = 20\n",
    "x = np.linspace(xspan[0],xspan[1],M+1)\n",
    "t = np.linspace(tspan[0],tspan[1],N+1)\n",
    "\n",
    "\n",
    "# initial condition\n",
    "def f(x,eps):\n",
    "    result = np.power(np.power(x,2) - np.power(eps,2),2)\n",
    "    result[x < -eps] = 0\n",
    "    result[x > eps] = 0\n",
    "    result = np.divide(result,np.power(eps,4))\n",
    "    return result\n",
    "\n",
    "# testing f(x)\n",
    "\n",
    "plt.figure()\n",
    "plt.plot(x,f(x,eps))\n",
    "plt.xlabel(\"x\")\n",
    "plt.ylabel(\"f(x)\")\n",
    "plt.show()\n",
    "\n",
    "# building the differentiation matrix\n",
    "def buildDiffmat2(x):\n",
    "    \"\"\"Building the second differentiation matrix D_{xx}\n",
    "    Input: only x - M + 1 vector\n",
    "    Output: M + 1 x M + 1 differentiation matrix\n",
    "    Note this function assumes the x nodes are equally spaced!\n",
    "    \"\"\"\n",
    "    size = len(x)    # M + 1\n",
    "    h = x[1] - x[0]\n",
    "    Dxx = np.diagflat(-2*np.ones([size,1]))    # main diagonal\n",
    "    Dxx += np.diagflat(np.ones([size-1,1]),1) + np.diagflat(np.ones([size-1,1]),-1)    # subdiagonals\n",
    "    Dxx[0,:4] = [1, -2.5, 2, -0.5]             # fix first and last rows\n",
    "    Dxx[-1,-4:] = [0.5, -2, 2.5, -1]\n",
    "    # trying with robin boundary conditions\n",
    "    #alpha = 1/2\n",
    "    #Dxx[0,:4] = [-12*alpha/22,  -19/22, 26/22, -7/22]\n",
    "    #Dxx[-1,-4:] = [-7/22, 26/22, -19/22, -12*alpha/22]\n",
    "    Dxx *= 2/np.power(h,2)\n",
    "    return Dxx\n",
    "    \n",
    "# ode function\n",
    "def fun(t,psi,params):\n",
    "    Dxx = params\n",
    "    return np.matmul(Dxx,psi)\n",
    "\n",
    "# verlet integration\n",
    "def verlet(t,x,fun,psiInit,params):\n",
    "    \"\"\"Verlet integration\n",
    "    \"\"\"\n",
    "    tau = t[1] - t[0]        # t spacing\n",
    "    psi = np.zeros([len(t),len(x)])\n",
    "    psi[0,:] = psiInit[0]       # initial condition\n",
    "    \n",
    "    # starting step \n",
    "    psi[1,:] = psiInit[0] + tau * psiInit[1] + np.power(tau,2)/2 * fun(t,psiInit[0],params)\n",
    "    \n",
    "    # iterating\n",
    "    for j in range(1,len(t)-1):\n",
    "        # main verlet step\n",
    "        psi[j+1,:] = 2*psi[j,:] - psi[j-1,:] + np.power(tau,2) * fun(t,psi[j,:],params)\n",
    "    return psi\n",
    "\n",
    "\n",
    "# solution\n",
    "\n",
    "# build differentiation matrix\n",
    "Dxx = buildDiffmat2(x)\n",
    "\n",
    "# integrate via verlet\n",
    "psi = verlet(t,x,fun,[f(x,eps),np.zeros(len(x))],Dxx)\n",
    "\n",
    "tau = t[1] - t[0]\n",
    "h = x[1] - x[0]\n",
    "speed = h/(np.sqrt(2)*tau)\n",
    "print(\"Wave Speed: \" + str(speed))\n",
    "fig = plt.figure()\n",
    "\n",
    "ims = []\n",
    "for i in range(0,N,numImSkip):\n",
    "    im = plt.plot(x,psi[i,:],'b')\n",
    "    plt.ylim([-1,1])\n",
    "    ims.append([im[0]])\n",
    "\n",
    "anim = ArtistAnimation(fig,ims,interval=10,blit=True)\n",
    "anim.save(\"wave-ani.gif\")"
   ]
  },
  {
   "cell_type": "markdown",
   "metadata": {},
   "source": [
    "Clearly this simulates the 1D wave equation quite effectively.  I have also experimented with an artificial reflector placed about 1/3 of the way from $x = -1$.  Now on to the 2D case."
   ]
  },
  {
   "cell_type": "markdown",
   "metadata": {},
   "source": [
    "## 2D Case"
   ]
  },
  {
   "cell_type": "markdown",
   "metadata": {},
   "source": [
    "For the 2D case we have the following:\n",
    "\n",
    "$$\\begin{split}\n",
    "\\nabla^2 \\psi = \\frac{\\partial^2 \\psi}{\\partial t^2}, \\quad \\vec{x} = (x,y) \\in \\left[-1,1\\right] \\times \\left[-1,1\\right] =: \\Omega\\\\\n",
    "\\left.\\psi(\\vec{x},t)\\right|_{\\partial \\Omega} = 0 \\\\\n",
    "\\psi(\\vec{x},0) = f(\\vec{x}), \\quad \\frac{\\partial \\psi}{\\partial t}(\\vec{x},t) = g(\\vec{x})\n",
    "\\end{split}$$\n",
    "\n",
    "The we can use the above discretization in the 2 dimensions.  This will give us $x_k = -1 + k\\frac{2}{M}$, and \n",
    "$y_l = -1 + l\\frac{2}{M}$, where $k,l = 0, 1, ..., M$.\n",
    "\n",
    "As above, we can then construct $\\psi(\\vec{x},t) \\to \\Psi(t)$, where $\\Psi(t) \\in \\mathbb{R}^{M+1\\times M+1}$\n",
    "\n",
    "We will then be solving the problem of \n",
    "\n",
    "$$\\frac{d^2}{dt^2} \\Psi(t) = D_{xx} \\Psi(t) + \\Psi(t) D_{yy}^T, \\quad \\Psi(0) = F = f(\\vec{x}), \\quad \n",
    "\\frac{d}{dt} \\Psi(t) = G = g(\\vec{x})$$\n",
    "\n",
    "Where both $D_{xx}$ and $D_{yy}$ are constructed as specified above.\n",
    "\n",
    "For simplicity, we will have \n",
    "\n",
    "$$f(\\vec{x}) = \\begin{cases}\\frac{1}{\\epsilon^2} (||\\vec{x}||^2 - \\epsilon^2)^2 & ||\\vec{x}|| \\leq \\epsilon \\\\\n",
    "0 & ||\\vec{x}|| > \\epsilon \\end{cases}, \\quad g(x) \\equiv 0$$"
   ]
  },
  {
   "cell_type": "code",
   "execution_count": 30,
   "metadata": {},
   "outputs": [
    {
     "name": "stderr",
     "output_type": "stream",
     "text": [
      "MovieWriter ffmpeg unavailable.\n"
     ]
    },
    {
     "name": "stdout",
     "output_type": "stream",
     "text": [
      "Speed = 1.4213201631890462\n"
     ]
    },
    {
     "data": {
      "image/png": "[encoded data removed]",
      "text/plain": [
       "<Figure size 432x288 with 1 Axes>"
      ]
     },
     "metadata": {},
     "output_type": "display_data"
    },
    {
     "data": {
      "image/png": "[encoded data removed]",
      "text/plain": [
       "<Figure size 432x288 with 1 Axes>"
      ]
     },
     "metadata": {},
     "output_type": "display_data"
    },
    {
     "data": {
      "image/png": "[encoded data removed]",
      "text/plain": [
       "<Figure size 432x288 with 1 Axes>"
      ]
     },
     "metadata": {},
     "output_type": "display_data"
    }
   ],
   "source": [
    "import numpy.linalg as la\n",
    "\n",
    "# setup\n",
    "xspan = [-1,1]\n",
    "yspan = [-1,1]\n",
    "tspan = [0,2]\n",
    "\n",
    "# for initial condition\n",
    "eps = 1.0/5\n",
    "\n",
    "M = 200    # number x/y nodes\n",
    "N = 400    # number t nodes\n",
    "\n",
    "# construction \n",
    "x = np.linspace(xspan[0],xspan[1],M)\n",
    "y = np.linspace(yspan[0],yspan[1],M)\n",
    "\n",
    "# construct meshed grids of x and y values\n",
    "[xmat,ymat] = np.meshgrid(x,y)\n",
    "xarr = [xmat,ymat]      # array of vectors representing position\n",
    "\n",
    "# initial condition\n",
    "def f(x,eps):\n",
    "    # extract x and y\n",
    "    xx = x[0]\n",
    "    yy = x[1]\n",
    "    \n",
    "    # build function\n",
    "    result = np.power(xx,2) + np.power(yy,2) - np.power(eps,2)\n",
    "    result = np.divide(np.power(result,2),np.power(eps,2))\n",
    "    \n",
    "    # enforce zero outside range\n",
    "    result[np.power(xx,2) + np.power(yy,2) > eps**2] = 0\n",
    "    \n",
    "    return result\n",
    "\n",
    "#z = f([xmat,ymat],eps)\n",
    "#plt.contourf(xmat,ymat,z)\n",
    "\n",
    "Dxx = buildDiffmat2(x)\n",
    "Dyy = buildDiffmat2(y)\n",
    "Dyyt = Dyy.T\n",
    "\n",
    "# ode function\n",
    "def fun(t,psi,params):\n",
    "    Dxx = params[0]\n",
    "    Dyyt = params[1]\n",
    "    return np.matmul(Dxx,psi) + np.matmul(psi,Dyyt)\n",
    "\n",
    "# adjusting verlet method for 2d\n",
    "def verlet2d(fun,tspan,psiInit,params):\n",
    "    \n",
    "    N = params[2]    # number t nodes \n",
    "    M = params[3]    # number x/y nodes\n",
    "    # construct time vector\n",
    "    t = np.linspace(tspan[0],tspan[1],N)\n",
    "    tau = t[1] - t[0]        # t spacing\n",
    "    \n",
    "    dims = np.shape(psiInit[0])\n",
    "    dims = np.insert(dims,0,N)\n",
    "        \n",
    "    psi = np.zeros(dims)\n",
    "    psi[0,:,:] = psiInit[0]       # initial condition\n",
    "    \n",
    "    # starting step \n",
    "    psi[1,:,:] = psiInit[0] + tau * psiInit[1] + np.power(tau,2)/2 * fun(t,psiInit[0],params)\n",
    "    \n",
    "    # iterating\n",
    "    for j in range(1,len(t)-1):\n",
    "        # main verlet step\n",
    "        psi[j+1,:,:] = 2*psi[j,:,:] - psi[j-1,:,:] + np.power(tau,2) * fun(t,psi[j,:,:],params)\n",
    "    return psi\n",
    "\n",
    "psiInit = [f(xarr,eps),np.zeros(np.shape(xmat))]\n",
    "psi = verlet2d(fun,tspan,psiInit,[Dxx,Dyyt,N,M])\n",
    "\n",
    "\n",
    "h = x[1] - x[0]\n",
    "tau = tspan[1]/N\n",
    "speed = h/(np.sqrt(2)*tau)\n",
    "print(\"Speed = \" + str(speed))\n",
    "\n",
    "fig,ax = plt.subplots()\n",
    "\n",
    "def animate(i):\n",
    "    ax.clear()\n",
    "    ax.contourf(xmat,ymat,psi[i,:,:])\n",
    "    \n",
    "interval = 0.0001\n",
    "\n",
    "anim = ani.FuncAnimation(fig,animate,N,interval=interval*1e+3,blit=False,repeat=True)\n",
    "anim.save(\"wave-2d.gif\")\n",
    "\n",
    "plt.figure()\n",
    "plt.contourf(xmat,ymat,psi[0,:,:])\n",
    "plt.figure()\n",
    "plt.contourf(xmat,ymat,psi[-1,:,:])\n",
    "plt.show()\n"
   ]
  },
  {
   "cell_type": "code",
   "execution_count": 4,
   "metadata": {},
   "outputs": [
    {
     "data": {
      "image/png": "[encoded data removed]",
      "text/plain": [
       "<Figure size 432x288 with 1 Axes>"
      ]
     },
     "metadata": {},
     "output_type": "display_data"
    }
   ],
   "source": [
    "DATA = np.random.randn(800).reshape(10,10,8)\n",
    "\n",
    "\n",
    "fig,ax = plt.subplots()\n",
    "\n",
    "def animate(i):\n",
    "       ax.clear()\n",
    "       ax.contourf(DATA[:,:,i])\n",
    "       ax.set_title('%03d'%(i)) \n",
    "\n",
    "interval = 2#in seconds     \n",
    "anim = ani.FuncAnimation(fig,animate,5,interval=interval*1e+3,blit=False)"
   ]
  },
  {
   "cell_type": "markdown",
   "metadata": {},
   "source": [
    "## Absorbing boundary conditions"
   ]
  },
  {
   "cell_type": "markdown",
   "metadata": {},
   "source": [
    "First we experiment with the following boundary condition in 1D:\n",
    "\n",
    "$$\\frac{\\partial \\psi}{\\partial x} = \\alpha \\psi$$\n",
    "\n",
    "Which is a form of a Robin Boundary Condition.  To this end we wish to find coefficients such that \n",
    "\n",
    "$$a f'(x) + bf(x + h) + cf(x + 2h) + df(x + 3h) = \\frac{h^2}{2} f''(x) + (h^4)$$"
   ]
  },
  {
   "cell_type": "code",
   "execution_count": 3,
   "metadata": {},
   "outputs": [
    {
     "name": "stdout",
     "output_type": "stream",
     "text": [
      "[[ 0  1  1  1]\n",
      " [ 1  1  2  3]\n",
      " [ 0  1  4  9]\n",
      " [ 0  1  8 27]]\n",
      "[0 0 1 0]\n",
      "[-12. -19.  26.  -7.]\n",
      "[[  0   1   1   1]\n",
      " [  1  -1  -2  -3]\n",
      " [  0   1   4   9]\n",
      " [  0  -1  -8 -27]]\n",
      "[-12. -19.  26.  -7.]\n"
     ]
    }
   ],
   "source": [
    "import numpy as np\n",
    "import numpy.linalg as la\n",
    "\n",
    "A = np.matrix([[0,1,1,1],[1,1,2,3],[0,1,4,9],[0,1,8,27]])\n",
    "print(A)\n",
    "\n",
    "b = np.array([0,0,1,0])\n",
    "print(b)\n",
    "\n",
    "sol = la.solve(A,b)\n",
    "print(sol*22)\n",
    "\n",
    "A2 = np.matrix([[0,1,1,1],[1,-1,-2,-3],[0,1,4,9],[0,-1,-8,-27]])\n",
    "print(A2)\n",
    "\n",
    "sol2 = la.solve(A2,b)\n",
    "print(sol*22)"
   ]
  },
  {
   "cell_type": "markdown",
   "metadata": {},
   "source": [
    "So for a differentiation matrix with a robin condition we input this new solution in the first/last rows, multiply by $\\frac{1}{11 h^2}$, then the first term ($-12$) is multiplied by $\\alpha$ since $f' = \\alpha f$"
   ]
  },
  {
   "cell_type": "markdown",
   "metadata": {},
   "source": [
    "## Reflector Arrays"
   ]
  },
  {
   "cell_type": "markdown",
   "metadata": {},
   "source": [
    "We will encode within the system a mirror which will reflect the wave.  This will act as the dish in the radar beam."
   ]
  },
  {
   "cell_type": "code",
   "execution_count": 31,
   "metadata": {},
   "outputs": [
    {
     "name": "stderr",
     "output_type": "stream",
     "text": [
      "MovieWriter ffmpeg unavailable.\n"
     ]
    },
    {
     "data": {
      "image/png": "[encoded data removed]",
      "text/plain": [
       "<Figure size 432x288 with 1 Axes>"
      ]
     },
     "metadata": {},
     "output_type": "display_data"
    },
    {
     "data": {
      "image/png": "[encoded data removed]",
      "text/plain": [
       "<Figure size 432x288 with 1 Axes>"
      ]
     },
     "metadata": {},
     "output_type": "display_data"
    },
    {
     "data": {
      "image/png": "[encoded data removed]",
      "text/plain": [
       "<Figure size 432x288 with 1 Axes>"
      ]
     },
     "metadata": {},
     "output_type": "display_data"
    }
   ],
   "source": [
    "def fun(t,psi,params):\n",
    "    \"\"\"Function for wave with reflector build in\n",
    "    \"\"\"\n",
    "    Dxx = params[0]\n",
    "    Dyyt = params[1]\n",
    "    arcfun = params[4]\n",
    "    tol = params[5]\n",
    "    xmat = params[6]\n",
    "    ymat = params[7]\n",
    "    psi[np.abs(arcfun(xmat,ymat)) < tol] = 0\n",
    "    \n",
    "    return np.matmul(Dxx,psi) + np.matmul(psi,Dyyt)\n",
    "\n",
    "def arcfunCircle(x,y):\n",
    "    tmp = np.power(x,2) + np.power(y,2) - 0.25\n",
    "    tmp[y > 0] = 1\n",
    "    return tmp\n",
    "\n",
    "tol = 1e-3\n",
    "params = [Dxx,Dyyt,N,M,arcfunCircle,tol,xmat,ymat]\n",
    "\n",
    "psiInit = [f(xarr,eps),np.zeros(np.shape(xmat))]\n",
    "psi = verlet2d(fun,tspan,psiInit,params)\n",
    "\n",
    "fig,ax = plt.subplots()\n",
    "\n",
    "def animate(i):\n",
    "    ax.clear()\n",
    "    ax.contourf(xmat,ymat,psi[i,:,:])\n",
    "    \n",
    "interval = 0.0001\n",
    "\n",
    "anim = ani.FuncAnimation(fig,animate,N,interval=interval*1e+3,blit=False,repeat=True)\n",
    "anim.save(\"wave-2d-reflector.gif\")\n",
    "\n",
    "plt.figure()\n",
    "plt.contourf(xmat,ymat,psi[0,:,:])\n",
    "plt.figure()\n",
    "plt.contourf(xmat,ymat,psi[-1,:,:])\n",
    "plt.show()\n"
   ]
  },
  {
   "cell_type": "code",
   "execution_count": null,
   "metadata": {},
   "outputs": [],
   "source": []
  }
 ],
 "metadata": {
  "kernelspec": {
   "display_name": "Python 3",
   "language": "python",
   "name": "python3"
  },
  "language_info": {
   "codemirror_mode": {
    "name": "ipython",
    "version": 3
   },
   "file_extension": ".py",
   "mimetype": "text/x-python",
   "name": "python",
   "nbconvert_exporter": "python",
   "pygments_lexer": "ipython3",
   "version": "3.6.5"
  }
 },
 "nbformat": 4,
 "nbformat_minor": 2
}
